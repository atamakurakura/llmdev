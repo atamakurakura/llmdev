{
 "cells": [
  {
   "cell_type": "code",
   "execution_count": 1,
   "id": "740348c1",
   "metadata": {},
   "outputs": [],
   "source": [
    "# 必要なモジュールをインポート\n",
    "import os\n",
    "import json\n",
    "from dotenv import load_dotenv\n",
    "from openai import OpenAI\n",
    "from openai.types.chat import ChatCompletionToolParam\n",
    "from tavily import TavilyClient\n",
    "\n",
    "# 環境変数の取得\n",
    "load_dotenv(\"../.env\")\n",
    "\n",
    "# OpenAI APIクライアントを生成\n",
    "client = OpenAI(api_key=os.environ['API_KEY'])\n",
    "\n",
    "# tavily検索用APIキーの取得\n",
    "TAVILY_API_KEY = os.environ['TAVILY_API_KEY']\n",
    "\n",
    "# モデル名\n",
    "MODEL_NAME = \"gpt-4o-mini\""
   ]
  },
  {
   "cell_type": "code",
   "execution_count": 2,
   "id": "bdb4d4a3",
   "metadata": {},
   "outputs": [],
   "source": [
    "# 検索結果を返す関数の作成\n",
    "def get_search_result(question):\n",
    "    client = TavilyClient(api_key=TAVILY_API_KEY)\n",
    "    response = client.search(question)\n",
    "    return json.dumps({\"result\": response[\"results\"]})"
   ]
  },
  {
   "cell_type": "code",
   "execution_count": 3,
   "id": "2490246f",
   "metadata": {},
   "outputs": [
    {
     "data": {
      "text/plain": [
       "{'result': [{'url': 'https://www.enjoytokyo.jp/event/list/area1306/',\n",
       "   'title': \"東京駅周辺・丸の内でおすすめのイベント - Let's ENJOY TOKYO\",\n",
       "   'content': '～ 2025/06/01(日) 休館日：月曜日（5月5日は開館）、5月7日 ～ 2025/06/01(日) ～ 2025/06/01(日) 休館日：月曜日（5月5日は開館）、5月7日 ～ 2025/06/03(火) ～ 2025/06/03(火) ～ 2025/06/03(火) 2025/05/29(木) ～ 09/07(日) 伊勢丹 立川店：3/26〜4/15 国際フォーラム：7/14〜7/31 日本橋三越本店：8/6〜8/19 文京グリーンコート：9/1〜9/30 2025/05/21(水) ～ 06/30(月) 熊本が誇る旬の逸品“春スイカ”を首都圏で楽しめる「熊本 春スイカ フェスタ」が開催！ 2025/04/08(火) ～ 07/27(日) 休室日：月曜日、7月8日(火)～13日(日) 2025/05/19(月) ～ 06/08(日) ～ 2025/05/31(土) 2025/06/21(土) ～ 06/22(日) 2025/06/21(土) ～ 06/22(日) 2026/02/07(土) ～ 05/24(日) 休館日：2026/02/16(月)、03/16(月)、04/13(月)、05/11(月) 20世紀北欧デザインの巨匠 スティグ・リンドベリ展 2025/08/20(水) ～ 09/07(日) 20世紀北欧デザインの巨匠 スティグ・リンドベリ展 20世紀北欧デザインの巨匠 スティグ・リンドベリの作品約300点を展示！ 2025/07/26(土) ～ 08/15(金) 2025/06/06(金) ～ 07/06(日) 2025/06/14(土) ～ 07/21(月・祝) 2025/05/31(土) ～ 06/01(日) ～ 2025/05/31(土) 2025/05/13(火) ～ 07/06(日) 休館日は月曜日。開映日時は作品によって異なる。 天空茶会第二十四葉 特別セミナー世界の茶産地を訪ねて セミナー午前の部\\u3000ネパールとの出会い 天空茶会第二十四葉 特別セミナー世界の茶産地を訪ねて セミナー午前の部\\u3000ネパールとの出会い 2025/07/15(火) ～ 08/24(日) 休館日は月曜日。開映日時は作品によって異なる。 2025/07/18(金) ～ 10/05(日) ～ 2025/06/01(日) 2025/06/07(土) ～ 06/15(日) 2025/05/30(金) ～ 06/01(日) 2025/01/18(土) ～ ※上映日・上映時間は公式ウェブサイトよりご確認ください。 2025/05/16(金) ～ 06/29(日) 2025/05/24(土) ～ 06/16(月) Lounge ＆ Dining G／東京マリオットホテル Cafe & Dining ZelkovA／ザ ストリングス 表参道 347 CAFE ＆ LOUNGE',\n",
       "   'score': 0.98532,\n",
       "   'raw_content': None},\n",
       "  {'url': 'https://www.walkerplus.com/event_list/ar0313/sc309880d/',\n",
       "   'title': '東京駅(東京都)周辺のイベント - ウォーカープラス',\n",
       "   'content': '開催中 2025年3月20日(祝)～6月3日(火) 京橋駅(東京都), 宝町駅(東京都), 日本橋駅(東京都), 銀座一丁目駅(東京都), 東京駅(東京都) CREATIVE MUSEUM TOKYO(クリエイティブ ミュージアム トウキョウ) *   [美術展・博物展](https://www.walkerplus.com/event_list/eg0107/) 開催中 2025年3月20日(祝)～6月3日(火) 京橋駅(東京都), 宝町駅(東京都), 日本橋駅(東京都), 銀座一丁目駅(東京都), 東京駅(東京都) CREATIVE MUSEUM TOKYO(クリエイティブ ミュージアム トウキョウ) *   [グルメ・フードフェス](https://www.walkerplus.com/event_list/eg0117/) *   ![Image 6](https://www.walkerplus.com/asset/images/common/ico_charge.svg) 終了間近 2025年4月1日(火)～5月31日(土) 東京駅(東京都), 二重橋前駅(東京都), 京橋駅(東京都), 大手町駅(東京都), 有楽町駅(東京都) *   [グルメ・フードフェス](https://www.walkerplus.com/event_list/eg0117/) *   ![Image 8](https://www.walkerplus.com/asset/images/common/ico_parking.svg) 2025年4月5日(土)～6月15日(日) 東京駅(東京都), 二重橋前駅(東京都), 大手町駅(東京都), 日本橋駅(東京都), 京橋駅(東京都) *   [美術展・博物展](https://www.walkerplus.com/event_list/eg0107/) 2025年3月1日(土)～6月1日(日) 京橋駅(東京都), 宝町駅(東京都), 日本橋駅(東京都), 東京駅(東京都), 銀座一丁目駅(東京都) *   [美術展・博物展](https://www.walkerplus.com/event_list/eg0107/) 開催中 2025年4月16日(水)～11月5日(水) 日本橋駅(東京都), 京橋駅(東京都), 茅場町駅(東京都), 宝町駅(東京都), 東京駅(東京都) *   [グルメ・フードフェス](https://www.walkerplus.com/event_list/eg0117/) *   ![Image 12](https://www.walkerplus.com/asset/images/common/ico_parking.svg) 2025年3月1日(土)～6月1日(日) 京橋駅(東京都), 宝町駅(東京都), 日本橋駅(東京都), 東京駅(東京都), 銀座一丁目駅(東京都) *   [美術展・博物展](https://www.walkerplus.com/event_list/eg0107/) 開催中 2025年5月1日(木)～6月30日(月) 東京駅(東京都), 日本橋駅(東京都), 大手町駅(東京都), 京橋駅(東京都), 三越前駅(東京都) *   [グルメ・フードフェス](https://www.walkerplus.com/event_list/eg0117/) *   ![Image 15](https://www.walkerplus.com/asset/images/common/ico_parking.svg) 2025年5月29日(木)～9月7日(日) *   [美術展・博物展](https://www.walkerplus.com/event_list/eg0107/) *   [映画イベント](https://www.walkerplus.com/event_list/eg0110/) *   [ライブ・音楽イベント](https://www.walkerplus.com/event_list/eg109/) *   ![Image 18](https://www.walkerplus.com/asset/images/common/ico_parking.svg) CREATIVE MUSEUM TOKYO(クリエイティブ ミュージアム トウキョウ) YEBISU BREWERY TOKYO(ヱビス ブルワリー トウキョウ) {{/ is_event }} {{# is_spot }} *    {{ name }} {{ pref_name }}{{ city_name }}',\n",
       "   'score': 0.98311,\n",
       "   'raw_content': None},\n",
       "  {'url': 'https://marunouchi.jp-kitte.jp/event/eventnews.jsp',\n",
       "   'title': 'イベント＆ニュース｜KITTE丸の内 | JR・丸ノ内線 東京駅に ...',\n",
       "   'content': '# イベント＆ニュース｜ＫＩＴＴＥ丸の内 | JR・丸ノ内線 東京駅に直結したショッピングセンター「キッテ」 ＫＩＴＴＥの夏イベント「ＫＩＴＴＥ座」8月5日(火)～8月31日(日) 5b7357a2ee04d8f4fa54dfbabe2fa789 ## イベント＆ニュース 記事別に見る :   * 記事一覧 * イベント (2) * ニュース (2) * キャンペーン (2) * 東京シティアイ (3) * インターメディアテク (3) * その他 (1) イベント ニュース キャンペーン 東京シティアイ インターメディアテク その他 東京シティアイ #### KATSUSHIKA町工場百貨市 | 開催日時 | 8月22日（金）～8月23日（土）11:00~19:00 | | 場所 | B1F\\u3000東京シティアイパフォーマンスゾーン | 東京シティアイ #### 青森ＰＲ展 | 開催日時 | 8月19日（火）～8月20日（水）11:00~18:00 | | 場所 | B1F\\u3000東京シティアイパフォーマンスゾーン | イベント #### Special EVENT「ＫＩＴＴＥ座\\u3000昭和祭」 | 開催日時 | 2025年8月19日(火) | | 場所 | ＫＩＴＴＥ１Fアトリウム | イベント #### ＫＩＴＴＥ座\\u3000提灯音頭\\u3000～提灯がおどる、夏がはずむ。～ | 開催日時 | 2025年8月5日(火)～2025年8月31日(日) | | 場所 | ＫＩＴＴＥ１Fアトリウム | インターメディアテク #### 特別展示『アヴェス・ヤポニカエ〈11〉 – 鴉は黒いか』 インターメディアテク #### 特別展示『植物顔 – 日本・フィリピンの草木花実写真』 ニュース #### 【平日ランチ限定】キッチンカーの出店について インターメディアテク | 開催日時 | 毎月20日・21日・22日 | | 場所 | ４Ｆエポスカードセンター内\\u3000ポイント発券機 |',\n",
       "   'score': 0.97817,\n",
       "   'raw_content': None},\n",
       "  {'url': 'https://www.enjoytokyo.jp/event/list/sta200101/its04/',\n",
       "   'title': '今日行ける！東京駅周辺のおすすめイベント',\n",
       "   'content': '東京都\\u3000千代田区 東京ビアホール＆ビアテラス14『TOKYO BEER WAVE』 東京ビアホール＆ビアテラス14『TOKYO BEER WAVE』 東京都\\u3000千代田区 2025/05/29(木) ～ 09/07(日) 東京都\\u3000文京区 伊勢丹 立川店：3/26〜4/15 国際フォーラム：7/14〜7/31 日本橋三越本店：8/6〜8/19 文京グリーンコート：9/1〜9/30 2025/06/13(金) ～ 06/26(木) ～ 2025/06/22(日) 2025/06/14(土) ～ 07/21(月・祝) ～ 2025/06/22(日) ～ 2025/06/22(日) 2025/05/27(火) ～ 09/23(火・祝) 東京都\\u3000港区 2025/05/12(月) ～ 09/07(日) 東京都\\u3000港区 2025/04/18(金) ～ 09/23(火・祝) 2025/01/18(土) ～ ※上映日・上映時間は公式ウェブサイトよりご確認ください。 東京都\\u3000武蔵野市 2025/06/21(土) ～ 08/17(日) 東京都\\u3000武蔵野市 2025/06/06(金) ～ 07/06(日) ※期間中の金曜日、土曜日、日曜日に開催 Lounge ＆ Dining G／東京マリオットホテル 東京都・品川駅 ／ テラスレストラン Cafe & Dining ZelkovA／ザ ストリングス 表参道 東京都・表参道駅 ／ テラスレストラン 東京都・渋谷駅 ／ テラスレストラン 東京都・吉祥寺駅 ／ テラスレストラン 東京都・渋谷駅 ／ テラスレストラン 東京都・六本木一丁目駅 ／ テラスレストラン 東京都・京橋駅 ／ テラスレストラン 東京都・渋谷駅 ／ テラスレストラン 東京都・銀座一丁目駅 ／ テラスレストラン 東京都・表参道駅 ／ テラスレストラン 347 CAFE ＆ LOUNGE 東京都・渋谷駅 ／ テラスレストラン 東京都・神保町駅 ／ テラスレストラン 東京都・渋谷駅 ／ テラスレストラン 神奈川県・みなとみらい駅 ／ テラスレストラン 神奈川県・横浜駅 ／ テラスレストラン 千葉県・船橋駅 ／ テラスレストラン',\n",
       "   'score': 0.97342,\n",
       "   'raw_content': None},\n",
       "  {'url': 'https://www.tokyoeki-1bangai.co.jp/',\n",
       "   'title': '東京駅一番街',\n",
       "   'content': '東京駅一番街 >アセット 1 Language - English - 繁体 - 簡体 - 한글 - ไทย - 日本語 # 東京一番街 東京駅一番街全体マップ(PDF) - ショップガイド - フロアガイド - イベント   ＆ニュース - アクセス - サービス   ガイド - コインロッカー 食べる - ラーメン - 和食 - 洋食・中華 - 喫茶・軽食 - 居酒屋・バー 買う - キャラクター - おみやげ - 和菓子 - 洋菓子 - ファッション・雑貨 - お弁当 - サービス・その他 店舗一覧 東京駅一番街全体マップ(PDF) 再生アルミ特設 ラブライブ！シリーズ×東京駅一番街コラボ 旨辛フェア2025 TSPバナー 東京ラーメンストリート特設（10/25～） 東京駅一番街ブランドムービー 東京おかしランド11月22日公開分リニューアル特集ページ 東京キャラクターストリートオンラインプラザ（キャラなし） 東京ギフトパレット特設 再生アルミ特設 ラブライブ！シリーズ×東京駅一番街コラボ 旨辛フェア2025 TSPバナー 東京ラーメンストリート特設（10/25～） 東京駅一番街ブランドムービー 東京おかしランド11月22日公開分リニューアル特集ページ 東京キャラクターストリートオンラインプラザ（キャラなし） 東京ギフトパレット特設 再生アルミ特設 「TOKAI STATION POINT」サービスが10月1日よりスタート‼ 東京キャラクターストリート 東京駅一番街\\u3000地下一階\\u3000東京キャラクターストリート いちばんプラザ 東京駅一番街 - 東京駅一番街公式 Facebook   - 東京駅一番街公式 X（旧Twitter）   - 東京キャラクターストリート公式 X   @characterstreet - 東京おかしランド公式 Instagram   @tokyo\\\\_okashiland - 東京ギフトパレット公式 Instagram   - 東京キャラクターストリート公式   Instagram   @tokyo\\\\_characterstreet - TOKAI STATION POINT 対象店舗 Copyright © Tokyo Station Development.',\n",
       "   'score': 0.96781,\n",
       "   'raw_content': None}]}"
      ]
     },
     "execution_count": 3,
     "metadata": {},
     "output_type": "execute_result"
    }
   ],
   "source": [
    "# テスト用コード\n",
    "ret = get_search_result(\"東京駅のイベントを教えて\")\n",
    "json.loads(ret)"
   ]
  },
  {
   "cell_type": "code",
   "execution_count": 4,
   "id": "4f1e21fe",
   "metadata": {},
   "outputs": [],
   "source": [
    "# ツール定義\n",
    "def define_tools():\n",
    "    return [\n",
    "        ChatCompletionToolParam({\n",
    "            \"type\": \"function\",\n",
    "            \"function\": {\n",
    "                \"name\": \"get_search_result\",\n",
    "                \"description\": \"指定した質問文の検索結果を取得する\",\n",
    "                \"parameters\": {\n",
    "                    \"type\": \"object\",\n",
    "                    \"properties\": {\n",
    "                        \"question\": {\"type\": \"string\", \"description\": \"質問文\"},\n",
    "                    },\n",
    "                    \"required\": [\"question\"],\n",
    "                },\n",
    "            },\n",
    "        })\n",
    "    ]"
   ]
  },
  {
   "cell_type": "code",
   "execution_count": 5,
   "id": "df64f919",
   "metadata": {},
   "outputs": [],
   "source": [
    "# 言語モデルへの質問を行う関数\n",
    "def ask_question(question, tools):\n",
    "    response = client.chat.completions.create(\n",
    "        model=MODEL_NAME,\n",
    "        messages=[{\"role\": \"user\", \"content\": question}],\n",
    "        tools=tools,\n",
    "        tool_choice=\"auto\",\n",
    "    )\n",
    "    return response"
   ]
  },
  {
   "cell_type": "code",
   "execution_count": 6,
   "id": "dd30e099",
   "metadata": {},
   "outputs": [],
   "source": [
    "# ツール呼び出しが必要な場合の処理を行う関数\n",
    "def handle_tool_call(response, question):\n",
    "    # 関数の実行と結果取得\n",
    "    tool = response.choices[0].message.tool_calls[0]\n",
    "    function_name = tool.function.name\n",
    "    arguments = json.loads(tool.function.arguments)\n",
    "    function_response = globals()[function_name](**arguments)\n",
    "\n",
    "    # 関数の実行結果をmessagesに加えて再度言語モデルを呼出\n",
    "    response_after_tool_call = client.chat.completions.create(\n",
    "        model=MODEL_NAME,\n",
    "        messages=[\n",
    "            {\"role\": \"user\", \"content\": question},\n",
    "            response.choices[0].message,\n",
    "            {\n",
    "                \"tool_call_id\": tool.id,\n",
    "                \"role\": \"tool\",\n",
    "                \"content\": function_response,\n",
    "            },\n",
    "        ],\n",
    "    )\n",
    "    return response_after_tool_call"
   ]
  },
  {
   "cell_type": "code",
   "execution_count": 7,
   "id": "5e374f9f",
   "metadata": {},
   "outputs": [],
   "source": [
    "# ユーザーからの質問を処理する関数\n",
    "def process_response(question, tools):\n",
    "    response = ask_question(question, tools)\n",
    "\n",
    "    if response.choices[0].finish_reason == 'tool_calls':\n",
    "        # ツール呼出の場合\n",
    "        final_response = handle_tool_call(response, question)\n",
    "        return final_response.choices[0].message.content.strip()\n",
    "    else:\n",
    "        # 言語モデルが直接回答する場合\n",
    "        return response.choices[0].message.content.strip()"
   ]
  },
  {
   "cell_type": "code",
   "execution_count": 8,
   "id": "63121c70",
   "metadata": {},
   "outputs": [
    {
     "name": "stdout",
     "output_type": "stream",
     "text": [
      "東京都の面積は約2,194 km²で、沖縄県の面積は約2,281 km²です。したがって、沖縄県の方が東京都よりも広いということになります。\n"
     ]
    }
   ],
   "source": [
    "tools = define_tools()\n",
    "\n",
    "# 言語モデルが直接回答できる質問\n",
    "question = \"東京都と沖縄県はどちらが広いですか？\"\n",
    "response_message = process_response(question, tools)\n",
    "print(response_message)"
   ]
  },
  {
   "cell_type": "code",
   "execution_count": 9,
   "id": "bf0e780a",
   "metadata": {},
   "outputs": [
    {
     "name": "stdout",
     "output_type": "stream",
     "text": [
      "最近の東京駅周辺でのイベント情報は以下の通りです。\n",
      "\n",
      "1. **Let's ENJOY TOKYO**\n",
      "   - **日時**: 2025年5月28日（水）〜6月30日（月）\n",
      "   - **場所**: XEX TOKYO（東京駅直結の大丸東京上）\n",
      "   - **内容**: 様々な食のイベントや特集が行われる。\n",
      "\n",
      "   詳細は[こちら](https://www.enjoytokyo.jp/event/list/sta200101/)。\n",
      "\n",
      "2. **東京駅「キラキラ」イベント**\n",
      "   - **日時**: 2025年4月10日（木）〜6月30日（月）\n",
      "   - **内容**: 年末の盛り上がりを感じさせる特別なライトアップやアートの展示が行われています。\n",
      "\n",
      "   詳細は[こちら](https://www.tokyo-np.co.jp/article/76521)。\n",
      "\n",
      "3. **東京駅イベント情報**\n",
      "   - **日時**: 2025年5月29日（木）〜9月7日（日）\n",
      "   - **内容**: 地元の特産品をフィーチャーしたフェアや市などが行われる予定。\n",
      "\n",
      "   詳細は[こちら](https://www.tokyoeki-1bangai.co.jp/event/)。\n",
      "\n",
      "これらのイベントは、東京駅周辺で楽しむことができるアクティビティや特別な体験を提供しています。イベントに関するさらなる情報は、各リンク先をご覧ください。\n"
     ]
    }
   ],
   "source": [
    "tools = define_tools()\n",
    "\n",
    "# ツール呼出が必要な質問\n",
    "question = \"東京駅のイベントについて、最近1ヶ月以内の検索結果を教えてください\"\n",
    "response_message = process_response(question, tools)\n",
    "print(response_message)"
   ]
  },
  {
   "cell_type": "code",
   "execution_count": 10,
   "id": "e43bc6fb",
   "metadata": {},
   "outputs": [
    {
     "data": {
      "text/plain": [
       "'質問:こんにちは！'"
      ]
     },
     "metadata": {},
     "output_type": "display_data"
    },
    {
     "name": "stdout",
     "output_type": "stream",
     "text": [
      "こんにちは！今日はどんなことをお手伝いできますか？\n"
     ]
    },
    {
     "data": {
      "text/plain": [
       "'質問:東北6県は？'"
      ]
     },
     "metadata": {},
     "output_type": "display_data"
    },
    {
     "name": "stdout",
     "output_type": "stream",
     "text": [
      "東北地方は日本の北東部に位置し、以下の6つの県から成り立っています：\n",
      "\n",
      "1. **青森県**（あおもりけん）\n",
      "2. **岩手県**（いわてけん）\n",
      "3. **宮城県**（みやぎけん）\n",
      "4. **秋田県**（あきたけん）\n",
      "5. **山形県**（やまがたけん）\n",
      "6. **福島県**（ふくしまけん）\n",
      "\n",
      "これらの県は、自然豊かで歴史や文化も深く、多くの観光地や特色があります。\n"
     ]
    },
    {
     "data": {
      "text/plain": [
       "'質問:宮城県のお土産について検索した結果を教えて'"
      ]
     },
     "metadata": {},
     "output_type": "display_data"
    },
    {
     "name": "stdout",
     "output_type": "stream",
     "text": [
      "宮城県で人気のお土産についての情報をいくつか紹介します。\n",
      "\n",
      "1. **仙台名物の『萩の月』**:\n",
      "   - 『萩の月』は、カステラ生地の中にクリームが入った和菓子で、宮城県の代表的なお土産です。\n",
      "\n",
      "2. **ずんだ餅**:\n",
      "   - ずんだ餅は、枝豆をすりつぶしたものを使った餅で、独特の甘さが人気です。仙台のお土産として広く知られています。\n",
      "\n",
      "3. **仙台牛タン**:\n",
      "   - 仙台名物の牛タンは、厚切りで焼き上げたものが特徴です。お土産用には真空パックされたものも多く販売されています。\n",
      "\n",
      "4. **まりんがの鯖（好き造りされたもの）**:\n",
      "   - 賞味期限が比較的短いですが、新鮮さが際立つ鯖は、特に海の近くで人気のあるお土産です。\n",
      "\n",
      "5. **『こぶ茶』**:\n",
      "   - こぶ茶は、昆布を用いたお茶で、健康志向の人々に支持されています。\n",
      "\n",
      "6. **仙台のお菓子『喜久福』**:\n",
      "   - モチ米を使った和菓子で、クリームやあんこが詰められているものがあります。\n",
      "\n",
      "### 参考リンク\n",
      "- [仙台の名産お土産に関する詳細記事](https://tohokuru.jp/blogs/feature/miyage_miyagi) \n",
      "- [宮城県のお土産20選](https://tsplus.asahi.co.jp/articles/gift/75865/)\n",
      "\n",
      "これらの情報を参考に、宮城県を訪れた際にはぜひお土産を選んでみてください！\n",
      "\n",
      "---ご利用ありがとうございました！---\n"
     ]
    }
   ],
   "source": [
    "# チャットボットへの組み込み\n",
    "tools = define_tools()\n",
    "\n",
    "messages=[]\n",
    "\n",
    "while(True):\n",
    "    # ユーザーからの質問を受付\n",
    "    question = input(\"メッセージを入力:\")\n",
    "    # 質問が入力されなければ終了\n",
    "    if question.strip()==\"\":\n",
    "        break\n",
    "    display(f\"質問:{question}\")\n",
    "\n",
    "    # メッセージにユーザーからの質問を追加\n",
    "    messages.append({\"role\": \"user\", \"content\": question.strip()})\n",
    "    # やりとりが8を超えたら古いメッセージから削除\n",
    "    if len(messages) > 8:\n",
    "        del_message = messages.pop(0)\n",
    "\n",
    "    # 言語モデルに質問\n",
    "    response_message = process_response(question, tools)\n",
    "\n",
    "    # メッセージに言語モデルからの回答を追加\n",
    "    print(response_message, flush=True)\n",
    "    messages.append({\"role\": \"assistant\", \"content\": response_message})\n",
    "\n",
    "print(\"\\n---ご利用ありがとうございました！---\")"
   ]
  }
 ],
 "metadata": {
  "kernelspec": {
   "display_name": ".venv",
   "language": "python",
   "name": "python3"
  },
  "language_info": {
   "codemirror_mode": {
    "name": "ipython",
    "version": 3
   },
   "file_extension": ".py",
   "mimetype": "text/x-python",
   "name": "python",
   "nbconvert_exporter": "python",
   "pygments_lexer": "ipython3",
   "version": "3.12.10"
  }
 },
 "nbformat": 4,
 "nbformat_minor": 5
}

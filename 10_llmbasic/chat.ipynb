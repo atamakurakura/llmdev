{
 "cells": [
  {
   "cell_type": "code",
   "execution_count": 1,
   "id": "4845d431",
   "metadata": {},
   "outputs": [],
   "source": [
    "# 必要なモジュールをインポート\n",
    "import os\n",
    "from dotenv import load_dotenv\n",
    "from openai import OpenAI\n",
    "from pprint import pprint\n",
    "\n",
    "# 環境変数の取得\n",
    "load_dotenv(\"../.env\")\n",
    "\n",
    "# OpenAI APIクライアントを生成\n",
    "client = OpenAI(api_key=os.environ['API_KEY'])\n",
    "\n",
    "# モデル名\n",
    "MODEL_NAME = \"gpt-4o-mini\""
   ]
  },
  {
   "cell_type": "code",
   "execution_count": 2,
   "id": "01243f19",
   "metadata": {},
   "outputs": [
    {
     "name": "stdout",
     "output_type": "stream",
     "text": [
      "{'_request_id': 'req_4b3af94dd5e44af59c850942db0313c7',\n",
      " 'choices': [Choice(finish_reason='stop', index=0, logprobs=None, message=ChatCompletionMessage(content='言語モデルを効果的に活用するためのポイントはいくつかあります。以下に主な点を挙げます。\\n\\n1. **目的を明確にする**: 言語モデルを使用する目的を明確にしましょう。例えば、文章生成、翻訳、要約、質問応答など、用途によって使用方法が変わります。\\n\\n2. **プロンプト設計**: モデルに対する入力（プロンプト）を適切に設計することが重要です。具体的で明確な指示を与えることで、望む結果を得やすくなります。\\n\\n3. **コンテキストを提供する**: モデルがより良い回答を生成するために、必要な情報や文脈を提供しましょう。詳細な背景や例を含めると良い結果が得られることが多いです。\\n\\n4. **フィードバックを活用する**: モデルからの出力を確認し、必要に応じて入力を調整することで、より正確な結果を得ることができます。アプローチを何度も繰り返すことで改善が可能です。\\n\\n5. **結果の評価**: モデルが生成した出力を評価し、信頼性や妥当性を確認しましょう。特に重要な情報に関しては、直接確認や他の情報源との照合が必要です。\\n\\n6. **限界を理解する**: 言語モデルには生成する情報の誤りや偏りが存在する場合があります。これを理解し、批判的な視点で活用することが重要です。\\n\\n7. **プライバシーと倫理**: 使用する際は、プライバシーや倫理的な側面に注意しましょう。データの取り扱いや出力内容が社会的に適切であるかを常に考慮するべきです。\\n\\nこれらのポイントを意識することで、言語モデルをより効果的に活用することができます。', refusal=None, role='assistant', audio=None, function_call=None, tool_calls=None, annotations=[]))],\n",
      " 'created': 1755759323,\n",
      " 'id': 'chatcmpl-C6tUhCYyRfghfppvbP0cgohbYxGBa',\n",
      " 'model': 'gpt-4o-mini-2024-07-18',\n",
      " 'object': 'chat.completion',\n",
      " 'service_tier': 'default',\n",
      " 'system_fingerprint': 'fp_560af6e559',\n",
      " 'usage': CompletionUsage(completion_tokens=459, prompt_tokens=18, total_tokens=477, completion_tokens_details=CompletionTokensDetails(accepted_prediction_tokens=0, audio_tokens=0, reasoning_tokens=0, rejected_prediction_tokens=0), prompt_tokens_details=PromptTokensDetails(audio_tokens=0, cached_tokens=0))}\n"
     ]
    }
   ],
   "source": [
    "# メッセージの設定\n",
    "message = \"言語モデルを使う上でのポイントは\"\n",
    "\n",
    "# APIへリクエスト\n",
    "response = client.chat.completions.create(\n",
    "    model=MODEL_NAME,\n",
    "    messages=[\n",
    "        {\"role\": \"user\", \"content\": message},\n",
    "    ]\n",
    ")\n",
    "\n",
    "# レスポンスの表示\n",
    "pprint(vars(response))"
   ]
  },
  {
   "cell_type": "code",
   "execution_count": 3,
   "id": "7ba405a7",
   "metadata": {},
   "outputs": [
    {
     "name": "stdout",
     "output_type": "stream",
     "text": [
      "言語モデルを効果的に活用するためのポイントはいくつかあります。以下に主な点を挙げます。\n",
      "\n",
      "1. **目的を明確にする**: 言語モデルを使用する目的を明確にしましょう。例えば、文章生成、翻訳、要約、質問応答など、用途によって使用方法が変わります。\n",
      "\n",
      "2. **プロンプト設計**: モデルに対する入力（プロンプト）を適切に設計することが重要です。具体的で明確な指示を与えることで、望む結果を得やすくなります。\n",
      "\n",
      "3. **コンテキストを提供する**: モデルがより良い回答を生成するために、必要な情報や文脈を提供しましょう。詳細な背景や例を含めると良い結果が得られることが多いです。\n",
      "\n",
      "4. **フィードバックを活用する**: モデルからの出力を確認し、必要に応じて入力を調整することで、より正確な結果を得ることができます。アプローチを何度も繰り返すことで改善が可能です。\n",
      "\n",
      "5. **結果の評価**: モデルが生成した出力を評価し、信頼性や妥当性を確認しましょう。特に重要な情報に関しては、直接確認や他の情報源との照合が必要です。\n",
      "\n",
      "6. **限界を理解する**: 言語モデルには生成する情報の誤りや偏りが存在する場合があります。これを理解し、批判的な視点で活用することが重要です。\n",
      "\n",
      "7. **プライバシーと倫理**: 使用する際は、プライバシーや倫理的な側面に注意しましょう。データの取り扱いや出力内容が社会的に適切であるかを常に考慮するべきです。\n",
      "\n",
      "これらのポイントを意識することで、言語モデルをより効果的に活用することができます。\n"
     ]
    }
   ],
   "source": [
    "# 言語モデルからの回答を表示\n",
    "print(response.choices[0].message.content.strip())"
   ]
  },
  {
   "cell_type": "code",
   "execution_count": 4,
   "id": "ddbd39a9",
   "metadata": {},
   "outputs": [
    {
     "name": "stdout",
     "output_type": "stream",
     "text": [
      "新製品の発売に向けた効果的なマーケティング戦略は、多岐にわたりますが、以下のステップに沿って進めることで、成功の可能性を高めることができます。\n",
      "\n",
      "### 1. 市場調査\n",
      "- **ターゲット市場の特定**: 顧客のニーズ、嗜好、購買行動を理解するための調査を行います。ペルソナを作成して具体的なユーザー像を描きます。\n",
      "- **競合分析**: 競合製品の特徴、価格、販売戦略を分析し、自社の製品がどのような差別化要素を持っているかを明らかにします。\n",
      "\n",
      "### 2. 明確なポジショニング\n",
      "- **ユニークセリングプロポジション（USP）の設定**: 製品が他の製品と何が違うのか、なぜその製品を選ぶべきかを明確にします。これにより、消費者に対する価値提案が明確になります。\n",
      "\n",
      "### 3. マーケティングミックスの策定 (4P)\n",
      "- **製品（Product）**: 製品の機能、デザイン、品質、パッケージングを最適化します。\n",
      "- **価格（Price）**: 価格設定戦略を決定します。コストプラス、競争に基づく、あるいは価値に基づく価格設定が考えられます。\n",
      "- **場所（Place）**: 販売チャネルを選定します。オンライン、実店舗、流通パートナーの選定を行います。\n",
      "- **プロモーション（Promotion）**: 宣伝活動（広告、PR、イベントなど）や販売促進手段を計画します。\n",
      "\n",
      "### 4. プリ・ローンチマーケティング\n",
      "- **ティーザーキャンペーン**: 製品の発売前に興味を引くティーザー広告を展開し、期待を高めます。\n",
      "- **インフルエンサーとの連携**: ターゲット市場に影響力を持つインフルエンサーと提携し、製品の認知度を高めます。\n",
      "\n",
      "### 5. 発売日の戦略\n",
      "- **ローンチイベントの実施**: オンラインまたはオフラインのイベントを開催し、製品の特長や利点を直接アピールします。\n",
      "- **特典の提供**: 発売初日に購入した顧客に特別価格や特典を提供することで、初動を促進します。\n",
      "\n",
      "### 6. フィードバックと改善\n",
      "- **顧客の声を聞く**: 発売後、顧客からのフィードバックを集め、製品改善や次のマーケティング戦略に活用します。\n",
      "- **モニタリングと分析**: 売上データやマーケティングキャンペーンの効果を定期的に分析し、必要に応じて戦略を修正します。\n",
      "\n",
      "### 7. 継続的なプロモーション\n",
      "- **リピート顧客の確保**: 新製品発売後も顧客との関係を構築し、リピート購入を促すためのコミュニケーションを行います。\n",
      "\n",
      "このステップに従えば、新製品の発売を効果的に進めることができます。事前の準備と実行、そしてフィードバックを重視することが成功の鍵です。\n"
     ]
    }
   ],
   "source": [
    "# 役割や前提の設定\n",
    "role = \"あなたはマーケティング分野に精通したビジネスコンサルタントです。企業の成長をサポートするために、効果的なマーケティング戦略を提供します。\"\n",
    "\n",
    "# メッセージの設定\n",
    "message = \"新製品の発売に向けた効果的なマーケティング戦略を教えてください。\"\n",
    "\n",
    "# APIへリクエスト\n",
    "response = client.chat.completions.create(\n",
    "    model=MODEL_NAME,\n",
    "    messages=[\n",
    "        {\"role\": \"system\", \"content\": role},\n",
    "        {\"role\": \"user\", \"content\": message},\n",
    "    ],\n",
    ")\n",
    "\n",
    "# 言語モデルからの回答を表示\n",
    "print(response.choices[0].message.content.strip())"
   ]
  }
 ],
 "metadata": {
  "kernelspec": {
   "display_name": ".venv",
   "language": "python",
   "name": "python3"
  },
  "language_info": {
   "codemirror_mode": {
    "name": "ipython",
    "version": 3
   },
   "file_extension": ".py",
   "mimetype": "text/x-python",
   "name": "python",
   "nbconvert_exporter": "python",
   "pygments_lexer": "ipython3",
   "version": "3.12.10"
  }
 },
 "nbformat": 4,
 "nbformat_minor": 5
}

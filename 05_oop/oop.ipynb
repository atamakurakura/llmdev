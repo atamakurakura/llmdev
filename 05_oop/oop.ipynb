{
 "cells": [
  {
   "cell_type": "code",
   "execution_count": 1,
   "id": "5ed2d5b7",
   "metadata": {},
   "outputs": [],
   "source": [
    "# クラスの定義\n",
    "class Dog:\n",
    "    # クラスの属性\n",
    "    species = \"イヌ科イヌ属\"  # 属名（クラス変数）\n",
    "\n",
    "    # 初期化メソッド（コンストラクタ）\n",
    "    def __init__(self, name, age):\n",
    "        # インスタンスの属性\n",
    "        self.name = name  # 犬の名前\n",
    "        self.age = age    # 犬の年齢\n",
    "\n",
    "    # メソッド\n",
    "    def bark(self):\n",
    "        return f\"{self.name}、{self.age}歳だよ。ワン！\""
   ]
  },
  {
   "cell_type": "code",
   "execution_count": 2,
   "id": "e0139cf9",
   "metadata": {},
   "outputs": [
    {
     "name": "stdout",
     "output_type": "stream",
     "text": [
      "何か音を出しています。\n",
      "何か音を出しています。\n",
      "ワンワン！\n"
     ]
    }
   ],
   "source": [
    "# 親クラス\n",
    "class Animal:\n",
    "    def __init__(self, name, age):\n",
    "        self.name = name\n",
    "        self.age = age\n",
    "\n",
    "    def speak(self):\n",
    "        return \"何か音を出しています。\"\n",
    "\n",
    "# 子クラス\n",
    "class Dog(Animal):\n",
    "    def bark(self):\n",
    "        return \"ワンワン！\"\n",
    "\n",
    "# Animal クラスからインスタンスを作成\n",
    "animal = Animal(\"生き物\", 5)\n",
    "print(animal.speak())  # 何か音を出しています。\n",
    "\n",
    "# Dog クラスからインスタンスを作成\n",
    "dog = Dog(\"ポチ\", 3)\n",
    "print(dog.speak())     # 何か音を出しています。（親クラスのメソッドを使用）\n",
    "print(dog.bark())      # ワンワン！（子クラス独自のメソッドを使用）"
   ]
  },
  {
   "cell_type": "code",
   "execution_count": 3,
   "id": "661d58e2",
   "metadata": {},
   "outputs": [
    {
     "name": "stdout",
     "output_type": "stream",
     "text": [
      "ポチ はワンワンと吠えています！\n",
      "ミケ はニャーと鳴いています！\n"
     ]
    }
   ],
   "source": [
    "class Animal:\n",
    "    def __init__(self, name, age):\n",
    "        self.name = name\n",
    "        self.age = age\n",
    "\n",
    "    def speak(self):\n",
    "        return \"何か音を出しています。\"\n",
    "\n",
    "class Dog(Animal):\n",
    "    def speak(self):\n",
    "        return f\"{self.name} はワンワンと吠えています！\"\n",
    "\n",
    "class Cat(Animal):\n",
    "    def speak(self):\n",
    "        return f\"{self.name} はニャーと鳴いています！\"\n",
    "\n",
    "dog = Dog(\"ポチ\", 3)\n",
    "cat = Cat(\"ミケ\", 2)\n",
    "\n",
    "print(dog.speak())  # ポチ はワンワンと吠えています！\n",
    "print(cat.speak())  # ミケ はニャーと鳴いています！"
   ]
  },
  {
   "cell_type": "code",
   "execution_count": 4,
   "id": "57e9ab2f",
   "metadata": {},
   "outputs": [
    {
     "name": "stdout",
     "output_type": "stream",
     "text": [
      "ワンワン！\n",
      "ニャー！\n"
     ]
    }
   ],
   "source": [
    "class Animal:\n",
    "    def speak(self):\n",
    "        return \"何か音を出しています。\"\n",
    "\n",
    "class Dog(Animal):\n",
    "    def speak(self):\n",
    "        return \"ワンワン！\"\n",
    "\n",
    "class Cat(Animal):\n",
    "    def speak(self):\n",
    "        return \"ニャー！\"\n",
    "\n",
    "# 各クラスのインスタンスを作成\n",
    "dog = Dog()\n",
    "cat = Cat()\n",
    "\n",
    "# 同じ speak メソッドを呼び出すが、異なる結果が返ってくる\n",
    "print(dog.speak())  # ワンワン！\n",
    "print(cat.speak())  # ニャー！"
   ]
  },
  {
   "cell_type": "code",
   "execution_count": 5,
   "id": "01be1f2a",
   "metadata": {},
   "outputs": [
    {
     "name": "stdout",
     "output_type": "stream",
     "text": [
      "ワンワン！\n",
      "ニャー！\n"
     ]
    }
   ],
   "source": [
    "class Animal:\n",
    "    def speak(self):\n",
    "        return \"何か音を出しています。\"\n",
    "\n",
    "class Dog(Animal):\n",
    "    def speak(self):\n",
    "        return \"ワンワン！\"\n",
    "\n",
    "class Cat(Animal):\n",
    "    def speak(self):\n",
    "        return \"ニャー！\"\n",
    "\n",
    "animals = [Dog(), Cat()]\n",
    "\n",
    "for animal in animals:\n",
    "    print(animal.speak())  # 各オブジェクトに応じたメソッドが呼ばれる"
   ]
  }
 ],
 "metadata": {
  "kernelspec": {
   "display_name": ".venv",
   "language": "python",
   "name": "python3"
  },
  "language_info": {
   "codemirror_mode": {
    "name": "ipython",
    "version": 3
   },
   "file_extension": ".py",
   "mimetype": "text/x-python",
   "name": "python",
   "nbconvert_exporter": "python",
   "pygments_lexer": "ipython3",
   "version": "3.12.10"
  }
 },
 "nbformat": 4,
 "nbformat_minor": 5
}

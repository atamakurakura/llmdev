{
 "cells": [
  {
   "cell_type": "code",
   "execution_count": 1,
   "id": "9d7af08d",
   "metadata": {},
   "outputs": [],
   "source": [
    "class BankAccount:\n",
    "    def __init__(self, initial_amount):\n",
    "        self.balance = initial_amount\n",
    "\n",
    "    def deposit(self, amount):\n",
    "        if amount < 0:\n",
    "            print(\"エラー: 正しい金額を入力してください\")\n",
    "        else:\n",
    "            self.balance += amount\n",
    "\n",
    "    def withdraw(self, amount):\n",
    "        if amount <= 0 or amount > self.balance:\n",
    "            print(\"エラー: 残高不足または無効な金額です\")\n",
    "        else:\n",
    "            self.balance -= amount\n",
    "\n",
    "    def get_balance(self):\n",
    "        return self.balance\n",
    "\n"
   ]
  },
  {
   "cell_type": "code",
   "execution_count": 2,
   "id": "38167061",
   "metadata": {},
   "outputs": [],
   "source": [
    "ba = BankAccount(1000)"
   ]
  },
  {
   "cell_type": "code",
   "execution_count": 3,
   "id": "aba2d5ba",
   "metadata": {},
   "outputs": [],
   "source": [
    "ba.deposit(500)"
   ]
  },
  {
   "cell_type": "code",
   "execution_count": 4,
   "id": "9538b5c2",
   "metadata": {},
   "outputs": [],
   "source": [
    "ba.withdraw(200)"
   ]
  },
  {
   "cell_type": "code",
   "execution_count": 5,
   "id": "4b3243f8",
   "metadata": {},
   "outputs": [
    {
     "data": {
      "text/plain": [
       "1300"
      ]
     },
     "execution_count": 5,
     "metadata": {},
     "output_type": "execute_result"
    }
   ],
   "source": [
    "ba.get_balance()"
   ]
  },
  {
   "cell_type": "code",
   "execution_count": 6,
   "id": "38852742",
   "metadata": {},
   "outputs": [
    {
     "name": "stdout",
     "output_type": "stream",
     "text": [
      "エラー: 残高不足または無効な金額です\n"
     ]
    }
   ],
   "source": [
    "ba.withdraw(1500)"
   ]
  },
  {
   "cell_type": "code",
   "execution_count": 7,
   "id": "7781fdc6",
   "metadata": {},
   "outputs": [
    {
     "name": "stdout",
     "output_type": "stream",
     "text": [
      "エラー: 正しい金額を入力してください\n"
     ]
    }
   ],
   "source": [
    "ba.deposit(-500)"
   ]
  }
 ],
 "metadata": {
  "kernelspec": {
   "display_name": ".venv",
   "language": "python",
   "name": "python3"
  },
  "language_info": {
   "codemirror_mode": {
    "name": "ipython",
    "version": 3
   },
   "file_extension": ".py",
   "mimetype": "text/x-python",
   "name": "python",
   "nbconvert_exporter": "python",
   "pygments_lexer": "ipython3",
   "version": "3.12.10"
  }
 },
 "nbformat": 4,
 "nbformat_minor": 5
}

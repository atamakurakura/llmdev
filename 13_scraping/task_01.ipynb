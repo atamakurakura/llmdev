{
 "cells": [
  {
   "cell_type": "code",
   "execution_count": 1,
   "id": "20dd64b6",
   "metadata": {},
   "outputs": [],
   "source": [
    "import requests\n",
    "import urllib.parse"
   ]
  },
  {
   "cell_type": "code",
   "execution_count": 2,
   "id": "d21aa081",
   "metadata": {},
   "outputs": [],
   "source": [
    "def get_robots_url(url):\n",
    "    \"\"\"\n",
    "    urlをスクレイプしてよいかが記載されたrobots.txtの内容を返す\n",
    "    \"\"\"\n",
    "    robots_url = urllib.parse.urlunparse(urllib.parse.urlparse(url)._replace(path='/robots.txt',query='',fragment=''))\n",
    "    response = requests.get(robots_url)\n",
    "    return response.text"
   ]
  },
  {
   "cell_type": "code",
   "execution_count": 3,
   "id": "d28d8880",
   "metadata": {},
   "outputs": [],
   "source": [
    "# 必要なモジュールをインポート\n",
    "import os\n",
    "from dotenv import load_dotenv\n",
    "from openai import OpenAI\n",
    "\n",
    "# 環境変数の取得\n",
    "load_dotenv(\"../.env\")\n",
    "\n",
    "# OpenAI APIクライアントを生成\n",
    "client = OpenAI(api_key=os.environ['API_KEY'])\n",
    "\n",
    "# モデル名\n",
    "MODEL_NAME = \"gpt-4o-mini\""
   ]
  },
  {
   "cell_type": "code",
   "execution_count": 4,
   "id": "e8e46f3d",
   "metadata": {},
   "outputs": [],
   "source": [
    "def is_scrapable(url, user_agent):\n",
    "    \"\"\"\n",
    "    User-Agent名 user_agentがurlをスクレイプしてよいかどうかをOpenAI APIで判定\n",
    "    \"\"\"\n",
    "    prompt = f\"\"\"\n",
    "    下記に引用した robots.txt が設置されているWebサイトから URL `{url}` を User-Agent `{user_agent}` でスクレイプしてよいかどうかをはいかいいえで回答してください。\n",
    "\n",
    "    #robots.txtの内容:\n",
    "    {get_robots_url(url)}\n",
    "    \"\"\"\n",
    "\n",
    "    # APIへリクエスト\n",
    "    response = client.chat.completions.create(\n",
    "        model=MODEL_NAME,\n",
    "        messages=[\n",
    "            {\"role\": \"user\", \"content\": prompt},\n",
    "        ],\n",
    "        max_tokens=500,\n",
    "        temperature=0.3\n",
    "    )\n",
    "\n",
    "    print(response.choices[0].message.content.strip())"
   ]
  },
  {
   "cell_type": "markdown",
   "id": "b57d4057",
   "metadata": {},
   "source": [
    "https://www.kiramex.com/robots.txt"
   ]
  },
  {
   "cell_type": "code",
   "execution_count": 5,
   "id": "ab3ac1ac",
   "metadata": {},
   "outputs": [
    {
     "name": "stdout",
     "output_type": "stream",
     "text": [
      "はい。\n"
     ]
    }
   ],
   "source": [
    "is_scrapable(\"https://www.kiramex.com/news/\", \"Mozilla/5.0\") # はい"
   ]
  },
  {
   "cell_type": "code",
   "execution_count": 6,
   "id": "f4245f1b",
   "metadata": {},
   "outputs": [
    {
     "name": "stdout",
     "output_type": "stream",
     "text": [
      "はい。\n"
     ]
    }
   ],
   "source": [
    "is_scrapable(\"https://www.kiramex.com/wp-admin/admin-ajax.php?a=1&b=2\", \"curl/7.36\") # はい"
   ]
  },
  {
   "cell_type": "code",
   "execution_count": 7,
   "id": "0e7f9481",
   "metadata": {},
   "outputs": [
    {
     "name": "stdout",
     "output_type": "stream",
     "text": [
      "いいえ。\n"
     ]
    }
   ],
   "source": [
    "is_scrapable(\"https://www.kiramex.com/wp-admin/admin.php\", \"python-requests/2.32.4\") # いいえ"
   ]
  },
  {
   "cell_type": "markdown",
   "id": "2748bdd7",
   "metadata": {},
   "source": [
    "https://search.yahoo.co.jp/robots.txt"
   ]
  },
  {
   "cell_type": "code",
   "execution_count": 8,
   "id": "6c2edfd8",
   "metadata": {},
   "outputs": [
    {
     "name": "stdout",
     "output_type": "stream",
     "text": [
      "いいえ。\n"
     ]
    }
   ],
   "source": [
    "is_scrapable(\"https://search.yahoo.co.jp/search?p=1\", \"Googlebot-Image/0.0\") # いいえ"
   ]
  },
  {
   "cell_type": "code",
   "execution_count": 9,
   "id": "53936184",
   "metadata": {},
   "outputs": [
    {
     "name": "stdout",
     "output_type": "stream",
     "text": [
      "はい\n"
     ]
    }
   ],
   "source": [
    "is_scrapable(\"https://search.yahoo.co.jp/search?p=1\", \"Twitterbot/0.0\") # はい\n"
   ]
  },
  {
   "cell_type": "code",
   "execution_count": 10,
   "id": "cb4b2001",
   "metadata": {},
   "outputs": [
    {
     "name": "stdout",
     "output_type": "stream",
     "text": [
      "いいえ\n"
     ]
    }
   ],
   "source": [
    "is_scrapable(\"https://search.yahoo.co.jp/aichat?ml=prop%3Aai_chat%3Bfrtype%3Astaichat%3B\", \"Googlebot/0.0\") # いいえ"
   ]
  },
  {
   "cell_type": "code",
   "execution_count": 11,
   "id": "bbf4ecb9",
   "metadata": {},
   "outputs": [
    {
     "name": "stdout",
     "output_type": "stream",
     "text": [
      "はい\n"
     ]
    }
   ],
   "source": [
    "is_scrapable(\"https://search.yahoo.co.jp/aichat?ml=prop%3Aai_chat%3Bfrtype%3Astaichat%3B\", \"facebookexternalhit/0.0\") # いいえ"
   ]
  }
 ],
 "metadata": {
  "kernelspec": {
   "display_name": ".venv",
   "language": "python",
   "name": "python3"
  },
  "language_info": {
   "codemirror_mode": {
    "name": "ipython",
    "version": 3
   },
   "file_extension": ".py",
   "mimetype": "text/x-python",
   "name": "python",
   "nbconvert_exporter": "python",
   "pygments_lexer": "ipython3",
   "version": "3.12.10"
  }
 },
 "nbformat": 4,
 "nbformat_minor": 5
}

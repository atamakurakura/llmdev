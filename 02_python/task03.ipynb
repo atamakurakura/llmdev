{
 "cells": [
  {
   "cell_type": "code",
   "execution_count": 1,
   "id": "45375f75",
   "metadata": {},
   "outputs": [],
   "source": [
    "def python_basic_review_3():\n",
    "    principal = int(input(\"元金を入力してください: \"))\n",
    "    annual_interest = int(input(\"年利を入力してください: \"))\n",
    "    n = 10\n",
    "\n",
    "    result = principal\n",
    "    for i in range(n):\n",
    "        result *= (1 + (annual_interest / 100))\n",
    "\n",
    "    print(f\"{n}年後の金額: {result:.2f}\")\n"
   ]
  },
  {
   "cell_type": "code",
   "execution_count": 2,
   "id": "10950e8f",
   "metadata": {},
   "outputs": [
    {
     "name": "stdout",
     "output_type": "stream",
     "text": [
      "10年後の金額: 1628.89\n"
     ]
    }
   ],
   "source": [
    "# キーボード入力:\n",
    "# 1000\n",
    "# 5\n",
    "python_basic_review_3()"
   ]
  }
 ],
 "metadata": {
  "kernelspec": {
   "display_name": ".venv",
   "language": "python",
   "name": "python3"
  },
  "language_info": {
   "codemirror_mode": {
    "name": "ipython",
    "version": 3
   },
   "file_extension": ".py",
   "mimetype": "text/x-python",
   "name": "python",
   "nbconvert_exporter": "python",
   "pygments_lexer": "ipython3",
   "version": "3.12.10"
  }
 },
 "nbformat": 4,
 "nbformat_minor": 5
}

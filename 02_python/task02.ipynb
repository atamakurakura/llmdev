{
 "cells": [
  {
   "cell_type": "code",
   "execution_count": 1,
   "id": "3bf848cf",
   "metadata": {},
   "outputs": [],
   "source": [
    "def python_basic_review_2():\n",
    "    consumption_tax_rate = 0.1\n",
    "    free_shipping_price_in_jpy = 2000\n",
    "    shipping_fee_in_jpy = 350\n",
    "\n",
    "    price_excluding_tax_in_jpy = int(input(\"税抜価格を入力してください：\"))\n",
    "\n",
    "    price_including_tax_in_jpy = round(price_excluding_tax_in_jpy * (1 + consumption_tax_rate))\n",
    "\n",
    "    if price_including_tax_in_jpy >= free_shipping_price_in_jpy:\n",
    "        print(\"送料は無料です\")\n",
    "        price_include_shipping_in_jpy = price_including_tax_in_jpy\n",
    "    else:\n",
    "        print(f\"送料は{shipping_fee_in_jpy}円です\")\n",
    "        price_include_shipping_in_jpy = price_including_tax_in_jpy + shipping_fee_in_jpy\n",
    "    \n",
    "    print(f\"送料込税込価格は{price_include_shipping_in_jpy}円です\")"
   ]
  },
  {
   "cell_type": "code",
   "execution_count": 2,
   "id": "4d2f9a7b",
   "metadata": {},
   "outputs": [
    {
     "name": "stdout",
     "output_type": "stream",
     "text": [
      "送料は無料です\n",
      "送料込税込価格は2200円です\n"
     ]
    }
   ],
   "source": [
    "python_basic_review_2() # キーボード入力: 2000"
   ]
  },
  {
   "cell_type": "code",
   "execution_count": 3,
   "id": "d7e9c635",
   "metadata": {},
   "outputs": [
    {
     "name": "stdout",
     "output_type": "stream",
     "text": [
      "送料は350円です\n",
      "送料込税込価格は2000円です\n"
     ]
    }
   ],
   "source": [
    "python_basic_review_2() # キーボード入力: 1500"
   ]
  }
 ],
 "metadata": {
  "kernelspec": {
   "display_name": ".venv",
   "language": "python",
   "name": "python3"
  },
  "language_info": {
   "codemirror_mode": {
    "name": "ipython",
    "version": 3
   },
   "file_extension": ".py",
   "mimetype": "text/x-python",
   "name": "python",
   "nbconvert_exporter": "python",
   "pygments_lexer": "ipython3",
   "version": "3.12.10"
  }
 },
 "nbformat": 4,
 "nbformat_minor": 5
}

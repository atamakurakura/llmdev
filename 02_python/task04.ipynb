{
 "cells": [
  {
   "cell_type": "code",
   "execution_count": 1,
   "id": "0098ded7",
   "metadata": {},
   "outputs": [],
   "source": [
    "def python_basic_review_4():\n",
    "    try:\n",
    "        a = int(input(\"被除数を入力してください: \"))\n",
    "        b = int(input(\"除数を入力してください: \"))\n",
    "        c = a / b\n",
    "        print(f\"計算結果: {c}\")\n",
    "    except ValueError:\n",
    "        print(\"エラー: 数値を入力してください\")\n",
    "    except ZeroDivisionError:\n",
    "        print(\"エラー: 0で割ることはできません\")\n"
   ]
  },
  {
   "cell_type": "code",
   "execution_count": 2,
   "id": "0539686d",
   "metadata": {},
   "outputs": [
    {
     "name": "stdout",
     "output_type": "stream",
     "text": [
      "計算結果: 10.0\n"
     ]
    }
   ],
   "source": [
    "# 1つ目の数を 100、2つ目の数を 10 と入力した場合\n",
    "# キーボード入力:\n",
    "# 100\n",
    "# 10\n",
    "python_basic_review_4()"
   ]
  },
  {
   "cell_type": "code",
   "execution_count": null,
   "id": "708cc20c",
   "metadata": {},
   "outputs": [
    {
     "name": "stdout",
     "output_type": "stream",
     "text": [
      "エラー: 0で割ることはできません\n"
     ]
    }
   ],
   "source": [
    "# 1つ目の数を 100、2つ目の数を 0 と入力した場合\n",
    "# キーボード入力:\n",
    "# 100\n",
    "# 0\n",
    "python_basic_review_4()"
   ]
  },
  {
   "cell_type": "code",
   "execution_count": 4,
   "id": "5cfb7978",
   "metadata": {},
   "outputs": [
    {
     "name": "stdout",
     "output_type": "stream",
     "text": [
      "エラー: 数値を入力してください\n"
     ]
    }
   ],
   "source": [
    "# 1つ目の数を a と入力した場合\n",
    "# キーボード入力:\n",
    "# a\n",
    "python_basic_review_4()"
   ]
  },
  {
   "cell_type": "code",
   "execution_count": 5,
   "id": "66d2d57f",
   "metadata": {},
   "outputs": [
    {
     "name": "stdout",
     "output_type": "stream",
     "text": [
      "エラー: 数値を入力してください\n"
     ]
    }
   ],
   "source": [
    "# 1つ目の数を 100、2つ目の数を b と入力した場合\n",
    "# キーボード入力:\n",
    "# 100\n",
    "# b\n",
    "python_basic_review_4()"
   ]
  }
 ],
 "metadata": {
  "kernelspec": {
   "display_name": ".venv",
   "language": "python",
   "name": "python3"
  },
  "language_info": {
   "codemirror_mode": {
    "name": "ipython",
    "version": 3
   },
   "file_extension": ".py",
   "mimetype": "text/x-python",
   "name": "python",
   "nbconvert_exporter": "python",
   "pygments_lexer": "ipython3",
   "version": "3.12.10"
  }
 },
 "nbformat": 4,
 "nbformat_minor": 5
}

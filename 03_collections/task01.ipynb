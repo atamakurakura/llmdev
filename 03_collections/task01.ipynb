{
 "cells": [
  {
   "cell_type": "code",
   "execution_count": 1,
   "id": "bc2efb47",
   "metadata": {},
   "outputs": [],
   "source": [
    "def collection_review_1(grades):\n",
    "    n = 0\n",
    "    avg = sum(grades) / len(grades)\n",
    "    print(f\"平均点: {avg}\")\n",
    "    print(f\"最高点: {max(grades)}\")\n",
    "    print(f\"最低点: {min(grades)}\")\n",
    "    print(f\"平均以上の学生数: {len(list(filter(lambda x: x >= avg, grades)))}\")"
   ]
  },
  {
   "cell_type": "code",
   "execution_count": 2,
   "id": "71e3f0ba",
   "metadata": {},
   "outputs": [
    {
     "name": "stdout",
     "output_type": "stream",
     "text": [
      "平均点: 86.6\n",
      "最高点: 92\n",
      "最低点: 78\n",
      "平均以上の学生数: 3\n"
     ]
    }
   ],
   "source": [
    "# 成績リストが [85, 90, 78, 92, 88] の場合\n",
    "grades = [85, 90, 78, 92, 88]\n",
    "collection_review_1(grades)"
   ]
  },
  {
   "cell_type": "code",
   "execution_count": 3,
   "id": "7616b98e",
   "metadata": {},
   "outputs": [
    {
     "name": "stdout",
     "output_type": "stream",
     "text": [
      "平均点: 80.0\n",
      "最高点: 90\n",
      "最低点: 70\n",
      "平均以上の学生数: 3\n"
     ]
    }
   ],
   "source": [
    "# 成績リストが [70, 75, 80, 85, 90] の場合\n",
    "grades = [70, 75, 80, 85, 90]\n",
    "collection_review_1(grades)\n"
   ]
  }
 ],
 "metadata": {
  "kernelspec": {
   "display_name": ".venv",
   "language": "python",
   "name": "python3"
  },
  "language_info": {
   "codemirror_mode": {
    "name": "ipython",
    "version": 3
   },
   "file_extension": ".py",
   "mimetype": "text/x-python",
   "name": "python",
   "nbconvert_exporter": "python",
   "pygments_lexer": "ipython3",
   "version": "3.12.10"
  }
 },
 "nbformat": 4,
 "nbformat_minor": 5
}

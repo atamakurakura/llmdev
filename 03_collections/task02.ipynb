{
 "cells": [
  {
   "cell_type": "code",
   "execution_count": 1,
   "id": "35819b81",
   "metadata": {},
   "outputs": [],
   "source": [
    "def collection_review_2():\n",
    "    words = []\n",
    "    while True:\n",
    "        word = input(\"英単語を入力してください：\")\n",
    "        if word == \"\":\n",
    "            break\n",
    "        words.append(word)\n",
    "    print(f\"入力した英単語：{words}\")\n",
    "    counts = {}\n",
    "    for word in words:\n",
    "        for char in word:\n",
    "            if char in counts:\n",
    "                counts[char] += 1\n",
    "            else:\n",
    "                counts[char] = 1\n",
    "    for char, count in sorted(counts.items()):\n",
    "        print(f\"{char}が{count}個ありました\")\n"
   ]
  },
  {
   "cell_type": "code",
   "execution_count": 2,
   "id": "42042960",
   "metadata": {},
   "outputs": [
    {
     "name": "stdout",
     "output_type": "stream",
     "text": [
      "入力した英単語：['dog', 'cat', 'giraffe', 'kangaroo', 'horse', 'bear']\n",
      "aが5個ありました\n",
      "bが1個ありました\n",
      "cが1個ありました\n",
      "dが1個ありました\n",
      "eが3個ありました\n",
      "fが2個ありました\n",
      "gが3個ありました\n",
      "hが1個ありました\n",
      "iが1個ありました\n",
      "kが1個ありました\n",
      "nが1個ありました\n",
      "oが4個ありました\n",
      "rが4個ありました\n",
      "sが1個ありました\n",
      "tが1個ありました\n"
     ]
    }
   ],
   "source": [
    "# キーボード入力:\n",
    "# dog\n",
    "# cat\n",
    "# giraffe\n",
    "# kangaroo\n",
    "# horse\n",
    "# bear\n",
    "# \n",
    "collection_review_2()"
   ]
  },
  {
   "cell_type": "code",
   "execution_count": null,
   "id": "820bc4f3",
   "metadata": {},
   "outputs": [],
   "source": []
  }
 ],
 "metadata": {
  "kernelspec": {
   "display_name": ".venv",
   "language": "python",
   "name": "python3"
  },
  "language_info": {
   "codemirror_mode": {
    "name": "ipython",
    "version": 3
   },
   "file_extension": ".py",
   "mimetype": "text/x-python",
   "name": "python",
   "nbconvert_exporter": "python",
   "pygments_lexer": "ipython3",
   "version": "3.12.10"
  }
 },
 "nbformat": 4,
 "nbformat_minor": 5
}

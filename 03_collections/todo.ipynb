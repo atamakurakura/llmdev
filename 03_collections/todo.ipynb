{
 "cells": [
  {
   "cell_type": "code",
   "execution_count": 1,
   "id": "ddb1a0b4",
   "metadata": {},
   "outputs": [],
   "source": [
    "def collections_reviews_3():\n",
    "    # TODOリストを格納するリスト\n",
    "    filename = \"todo_list.txt\"\n",
    "    try:\n",
    "        # ファイルが存在したら内容を読込\n",
    "        with open(filename, \"r\", encoding=\"utf-8\") as file:\n",
    "            todo_list = [line.strip() for line in file]\n",
    "    except FileNotFoundError:\n",
    "        # ファイルが存在しない場合は新しいリストを作成\n",
    "        todo_list = []\n",
    "\n",
    "    # メニュー表示\n",
    "    print(\"【TODOリスト】\")\n",
    "\n",
    "    while True:\n",
    "        print(\"番号を入力してください[1:追加、2:表示、3:削除、4:保存と終了]:\", end=\"\", flush=True)\n",
    "        choice = input(\"\")\n",
    "\n",
    "        if choice == \"1\":\n",
    "            print(\"1:追加\", flush=True)\n",
    "            add_todo = input(\"追加するTODO: \")\n",
    "            print(\"追加するTODO:\", add_todo, flush=True)\n",
    "            todo_list.append(add_todo)\n",
    "        elif choice == \"2\":\n",
    "            print(\"2:表示\", flush=True)\n",
    "            for i, todo in enumerate(todo_list):\n",
    "                print(f\"{i + 1}. {todo}\")\n",
    "        elif choice == \"3\":\n",
    "            print(\"3:削除\", flush=True)\n",
    "            for i, todo in enumerate(todo_list):\n",
    "                print(f\"{i + 1}. {todo}\")\n",
    "            print(\"削除する番号: \", end=\"\", flush=True)\n",
    "            subchoice = input(\"\")\n",
    "            print(subchoice, flush=True)\n",
    "            try:\n",
    "                del todo_list[int(subchoice) - 1]\n",
    "            except ValueError:\n",
    "                print(\"無効な番号です。\")\n",
    "        elif choice == \"4\":\n",
    "            print(\"4:保存と終了\", flush=True)\n",
    "            with open(filename, \"w\", encoding=\"utf-8\") as file:\n",
    "                file.writelines(f\"{todo}\\n\" for todo in todo_list)\n",
    "            print(\"TODOリストを保存して終了します。\", flush=True)\n",
    "            break\n",
    "        else:\n",
    "            print(\"1-4の数字を入力してください。\", flush=True)"
   ]
  },
  {
   "cell_type": "code",
   "execution_count": 2,
   "id": "1615be01",
   "metadata": {},
   "outputs": [],
   "source": [
    "def setup_todo_list_txt():\n",
    "    # TODOリストを格納するリスト\n",
    "    filename = \"todo_list.txt\"\n",
    "    with open(filename, \"w\") as f:\n",
    "        f.write(\"英語の勉強\\n\")\n",
    "        f.write(\"切手を買う\\n\")"
   ]
  },
  {
   "cell_type": "code",
   "execution_count": null,
   "id": "c173320a",
   "metadata": {},
   "outputs": [
    {
     "name": "stdout",
     "output_type": "stream",
     "text": [
      "【TODOリスト】\n",
      "番号を入力してください[1:追加、2:表示、3:削除、4:保存と終了]:3:削除\n",
      "1. 英語の勉強\n",
      "2. 切手を買う\n",
      "削除する番号: 2\n",
      "番号を入力してください[1:追加、2:表示、3:削除、4:保存と終了]:2:表示\n",
      "1. 英語の勉強\n",
      "番号を入力してください[1:追加、2:表示、3:削除、4:保存と終了]:4:保存と終了\n",
      "TODOリストを保存して終了します。\n"
     ]
    }
   ],
   "source": [
    "# 3:削除 のあとで、正しい番号（2）を入力した場合：\n",
    "setup_todo_list_txt()\n",
    "collections_reviews_3()\n",
    "# 【注意】課題の実行例では「削除する番号: 1」となっているが間違いだと思われる"
   ]
  },
  {
   "cell_type": "code",
   "execution_count": 4,
   "id": "faba580d",
   "metadata": {},
   "outputs": [
    {
     "name": "stdout",
     "output_type": "stream",
     "text": [
      "【TODOリスト】\n",
      "番号を入力してください[1:追加、2:表示、3:削除、4:保存と終了]:3:削除\n",
      "1. 英語の勉強\n",
      "2. 切手を買う\n",
      "削除する番号: a\n",
      "無効な番号です。\n",
      "番号を入力してください[1:追加、2:表示、3:削除、4:保存と終了]:2:表示\n",
      "1. 英語の勉強\n",
      "2. 切手を買う\n",
      "番号を入力してください[1:追加、2:表示、3:削除、4:保存と終了]:4:保存と終了\n",
      "TODOリストを保存して終了します。\n"
     ]
    }
   ],
   "source": [
    "# 不正な値（a）を入力した場合：\n",
    "setup_todo_list_txt()\n",
    "collections_reviews_3()"
   ]
  }
 ],
 "metadata": {
  "kernelspec": {
   "display_name": ".venv",
   "language": "python",
   "name": "python3"
  },
  "language_info": {
   "codemirror_mode": {
    "name": "ipython",
    "version": 3
   },
   "file_extension": ".py",
   "mimetype": "text/x-python",
   "name": "python",
   "nbconvert_exporter": "python",
   "pygments_lexer": "ipython3",
   "version": "3.12.10"
  }
 },
 "nbformat": 4,
 "nbformat_minor": 5
}
